{
 "cells": [
  {
   "cell_type": "code",
   "execution_count": null,
   "metadata": {},
   "outputs": [],
   "source": [
    "import mysql.connector.pooling\n",
    "import pandas as pd"
   ]
  },
  {
   "cell_type": "code",
   "execution_count": null,
   "metadata": {},
   "outputs": [],
   "source": [
    "# Create a connection pool to the MySQL database\n",
    "db_config = {\n",
    "    \"host\": \"localhost\",\n",
    "    \"user\": \"root\",\n",
    "    \"password\": \"\",\n",
    "    \"database\": \"db_agency\",\n",
    "}\n",
    "\n",
    "connection_pool = mysql.connector.pooling.MySQLConnectionPool(pool_name=\"my_pool\", pool_size=5, **db_config)\n"
   ]
  },
  {
   "cell_type": "code",
   "execution_count": null,
   "metadata": {},
   "outputs": [],
   "source": [
    "connection = connection_pool.get_connection()\n",
    "print(connection.is_connected())"
   ]
  },
  {
   "cell_type": "code",
   "execution_count": null,
   "metadata": {},
   "outputs": [],
   "source": [
    "movies_query =  \"SELECT * FROM movies;\"\n",
    "movies_df = pd.read_sql_query(movies_query, connection)\n",
    "print(movies_df.keys())\n",
    "print(movies_df.head())"
   ]
  },
  {
   "cell_type": "code",
   "execution_count": null,
   "metadata": {},
   "outputs": [],
   "source": [
    "genres_query =  \"SELECT mg.movie_id, g.genre FROM movie_genre mg JOIN genre g ON mg.genre_id = g.id;\"\n",
    "genre_df = pd.read_sql_query(genres_query, connection)\n",
    "print(genre_df.keys())\n",
    "print(genre_df.head())"
   ]
  },
  {
   "cell_type": "code",
   "execution_count": null,
   "metadata": {},
   "outputs": [],
   "source": [
    "# Group by movie_id and aggregate genres into a list\n",
    "grouped_genre_df = genre_df.groupby('movie_id')['genre'].agg(list).reset_index()\n",
    "print(grouped_genre_df.head())"
   ]
  },
  {
   "cell_type": "code",
   "execution_count": null,
   "metadata": {},
   "outputs": [],
   "source": [
    "grouped_genre_df['movie_id'] = grouped_genre_df['movie_id'].astype('int64')\n",
    "merged_movies = movies_df.merge(grouped_genre_df, left_on='id', right_on='movie_id', how='left')\n",
    "print(merged_movies.head())\n"
   ]
  },
  {
   "cell_type": "code",
   "execution_count": null,
   "metadata": {},
   "outputs": [],
   "source": [
    "merged_movies.columns"
   ]
  },
  {
   "cell_type": "code",
   "execution_count": null,
   "metadata": {},
   "outputs": [],
   "source": [
    "merged_movies = merged_movies[['id', 'title', 'genre', 'summary', 'release_date', 'duration', 'parental_guide', 'actors']]"
   ]
  },
  {
   "cell_type": "code",
   "execution_count": null,
   "metadata": {},
   "outputs": [],
   "source": [
    "# Replace null values in 'actors' column with empty list\n",
    "# merged_movies['actors'].fillna([], inplace=True)\n",
    "# merged_movies.head()\n",
    "merged_movies.fillna('', inplace=True)"
   ]
  },
  {
   "cell_type": "code",
   "execution_count": null,
   "metadata": {},
   "outputs": [],
   "source": [
    "merged_movies['summary'] = merged_movies['summary'].apply(lambda x:x.split())\n",
    "merged_movies['summary'] = merged_movies['summary'].apply(lambda x:[i.replace(\" \", \"\") for i in x])\n",
    "merged_movies['summary'].head()"
   ]
  },
  {
   "cell_type": "code",
   "execution_count": null,
   "metadata": {},
   "outputs": [],
   "source": [
    "merged_movies['actors'] = merged_movies['actors'].apply(lambda x:x.split())\n",
    "merged_movies['actors'] = merged_movies['actors'].apply(lambda x:[i.replace(\" \", \"\") for i in x])\n",
    "merged_movies['actors'].head()"
   ]
  },
  {
   "cell_type": "code",
   "execution_count": null,
   "metadata": {},
   "outputs": [],
   "source": [
    "# Custom function to concatenate lists\n",
    "def concatenate_lists(row, columns=[]):\n",
    "    concatenated = []\n",
    "    for column in columns:\n",
    "        concatenated.extend(row[column])\n",
    "    return concatenated\n",
    "\n",
    "# Define the columns you want to concatenate\n",
    "columns_to_concat = ['genre', 'summary', 'actors']\n",
    "merged_movies['tags'] = merged_movies.apply(lambda x: concatenate_lists(x, columns_to_concat), axis=1)\n",
    "\n",
    "merged_movies['tags'].head()\n"
   ]
  },
  {
   "cell_type": "code",
   "execution_count": null,
   "metadata": {},
   "outputs": [],
   "source": [
    "import ast\n",
    "\n",
    "def convert(obj):\n",
    "    l = []\n",
    "    for i in ast.literal_eval(obj):\n",
    "        l.append(i['name'])\n",
    "    return l\n",
    "\n",
    "print(ast.literal_eval('[]'))"
   ]
  },
  {
   "cell_type": "code",
   "execution_count": null,
   "metadata": {},
   "outputs": [],
   "source": [
    "new_df = merged_movies[['id', 'title', 'tags', 'release_date', 'duration', 'parental_guide']]\n",
    "new_df['tags'] = new_df['tags'].apply(lambda x:' '.join(x))\n",
    "new_df.head()"
   ]
  },
  {
   "cell_type": "code",
   "execution_count": null,
   "metadata": {},
   "outputs": [],
   "source": [
    "new_df['tags'] = new_df['tags'].apply(lambda x:x.lower())"
   ]
  },
  {
   "cell_type": "code",
   "execution_count": null,
   "metadata": {},
   "outputs": [],
   "source": [
    "from sklearn.feature_extraction.text import CountVectorizer, TfidfVectorizer\n",
    "\n",
    "# Matrix based on count vectorizer and tfidf vectorizer\n",
    "cv = CountVectorizer(max_features=5000, stop_words='english')\n",
    "tfidf = TfidfVectorizer(stop_words='english')"
   ]
  },
  {
   "cell_type": "code",
   "execution_count": null,
   "metadata": {},
   "outputs": [],
   "source": [
    "# vectors = cv.fit_transform(new_df['tags']).toarray()\n",
    "vectors = tfidf.fit_transform(new_df['tags']).toarray()"
   ]
  },
  {
   "cell_type": "code",
   "execution_count": null,
   "metadata": {},
   "outputs": [],
   "source": [
    "cv.fit_transform(new_df['tags']).toarray().shape\n",
    "len(cv.get_feature_names_out())"
   ]
  },
  {
   "cell_type": "code",
   "execution_count": null,
   "metadata": {},
   "outputs": [],
   "source": [
    "from nltk.stem.porter import PorterStemmer\n",
    "\n",
    "ps = PorterStemmer()\n",
    "\n",
    "def stem(text):\n",
    "    y = []\n",
    "    for i in text.split():\n",
    "        y.append(ps.stem(i))\n",
    "    return \" \".join(y)\n"
   ]
  },
  {
   "cell_type": "code",
   "execution_count": null,
   "metadata": {},
   "outputs": [],
   "source": [
    "new_df['tags'] = new_df['tags'].apply(stem)"
   ]
  },
  {
   "cell_type": "code",
   "execution_count": null,
   "metadata": {},
   "outputs": [],
   "source": [
    "from sklearn.metrics.pairwise import cosine_similarity\n",
    "\n",
    "cosine_similarity(vectors).shape"
   ]
  },
  {
   "cell_type": "code",
   "execution_count": null,
   "metadata": {},
   "outputs": [],
   "source": [
    "similarity = cosine_similarity(vectors)\n",
    "similarity[0].shape"
   ]
  },
  {
   "cell_type": "code",
   "execution_count": null,
   "metadata": {},
   "outputs": [],
   "source": [
    "def recommend(movie):\n",
    "    # movie_index = new_df[new_df['title']==movie].index[0]\n",
    "    # modification to make the search case-insesitive\n",
    "    movie_index = new_df[new_df['title'].apply(lambda x:x.lower())==movie.lower()].index[0]\n",
    "    distances = similarity[movie_index]\n",
    "    movie_list = sorted(list(enumerate(distances)), reverse=True, key=lambda x:x[1])[1:6]\n",
    "    \n",
    "    for i in movie_list:\n",
    "        print(new_df.iloc[i[0]].title)"
   ]
  },
  {
   "cell_type": "code",
   "execution_count": null,
   "metadata": {},
   "outputs": [],
   "source": [
    "recommend(new_df.iloc[5].title)"
   ]
  }
 ],
 "metadata": {
  "kernelspec": {
   "display_name": "cinego-venv",
   "language": "python",
   "name": "python3"
  },
  "language_info": {
   "codemirror_mode": {
    "name": "ipython",
    "version": 3
   },
   "file_extension": ".py",
   "mimetype": "text/x-python",
   "name": "python",
   "nbconvert_exporter": "python",
   "pygments_lexer": "ipython3",
   "version": "3.10.11"
  },
  "orig_nbformat": 4
 },
 "nbformat": 4,
 "nbformat_minor": 2
}
